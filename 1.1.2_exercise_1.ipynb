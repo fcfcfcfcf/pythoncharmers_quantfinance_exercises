{
 "cells": [
  {
   "cell_type": "code",
   "execution_count": 1,
   "metadata": {},
   "outputs": [
    {
     "data": {
      "text/plain": [
       "RendererRegistry.enable('html')"
      ]
     },
     "execution_count": 1,
     "metadata": {},
     "output_type": "execute_result"
    }
   ],
   "source": [
    "import altair\n",
    "import pandas\n",
    "import numpy\n",
    "from scipy import stats\n",
    "if not altair.data_transformers.active == 'json':  # Check json isn't already active\n",
    "    altair.data_transformers.enable('json')\n",
    "altair.renderers.enable('html')"
   ]
  },
  {
   "cell_type": "markdown",
   "metadata": {},
   "source": [
    "1. Plot a histogram of the standard deviation with the following properties:\n",
    "    \n",
    "    A. Mean ($\\mu$) of 1, standard deviation ($\\sigma$) of 7\n",
    "    \n",
    "    B. $\\mu=10, \\sigma=1$\n",
    "    \n",
    "    C. $\\mu=-10, \\sigma=5$\n",
    "2. Create a python function that accepts two inputs (mean and standard_deviation) and plots the histogram as per question 1.\n",
    "3. Investigate the documentation of Altair and overlay these plots on top of each other, with different colours.\n"
   ]
  },
  {
   "cell_type": "code",
   "execution_count": 2,
   "metadata": {},
   "outputs": [
    {
     "data": {
      "text/html": [
       "\n",
       "<div id=\"altair-viz-878b2439c70d47d79a58c39bc1e933d4\"></div>\n",
       "<script type=\"text/javascript\">\n",
       "  (function(spec, embedOpt){\n",
       "    let outputDiv = document.currentScript.previousElementSibling;\n",
       "    if (outputDiv.id !== \"altair-viz-878b2439c70d47d79a58c39bc1e933d4\") {\n",
       "      outputDiv = document.getElementById(\"altair-viz-878b2439c70d47d79a58c39bc1e933d4\");\n",
       "    }\n",
       "    const paths = {\n",
       "      \"vega\": \"https://cdn.jsdelivr.net/npm//vega@5?noext\",\n",
       "      \"vega-lib\": \"https://cdn.jsdelivr.net/npm//vega-lib?noext\",\n",
       "      \"vega-lite\": \"https://cdn.jsdelivr.net/npm//vega-lite@4.8.1?noext\",\n",
       "      \"vega-embed\": \"https://cdn.jsdelivr.net/npm//vega-embed@6?noext\",\n",
       "    };\n",
       "\n",
       "    function loadScript(lib) {\n",
       "      return new Promise(function(resolve, reject) {\n",
       "        var s = document.createElement('script');\n",
       "        s.src = paths[lib];\n",
       "        s.async = true;\n",
       "        s.onload = () => resolve(paths[lib]);\n",
       "        s.onerror = () => reject(`Error loading script: ${paths[lib]}`);\n",
       "        document.getElementsByTagName(\"head\")[0].appendChild(s);\n",
       "      });\n",
       "    }\n",
       "\n",
       "    function showError(err) {\n",
       "      outputDiv.innerHTML = `<div class=\"error\" style=\"color:red;\">${err}</div>`;\n",
       "      throw err;\n",
       "    }\n",
       "\n",
       "    function displayChart(vegaEmbed) {\n",
       "      vegaEmbed(outputDiv, spec, embedOpt)\n",
       "        .catch(err => showError(`Javascript Error: ${err.message}<br>This usually means there's a typo in your chart specification. See the javascript console for the full traceback.`));\n",
       "    }\n",
       "\n",
       "    if(typeof define === \"function\" && define.amd) {\n",
       "      requirejs.config({paths});\n",
       "      require([\"vega-embed\"], displayChart, err => showError(`Error loading script: ${err.message}`));\n",
       "    } else if (typeof vegaEmbed === \"function\") {\n",
       "      displayChart(vegaEmbed);\n",
       "    } else {\n",
       "      loadScript(\"vega\")\n",
       "        .then(() => loadScript(\"vega-lite\"))\n",
       "        .then(() => loadScript(\"vega-embed\"))\n",
       "        .catch(showError)\n",
       "        .then(() => displayChart(vegaEmbed));\n",
       "    }\n",
       "  })({\"config\": {\"view\": {\"continuousWidth\": 400, \"continuousHeight\": 300}}, \"layer\": [{\"data\": {\"url\": \"altair-data-43c8ad1c238d7381978f1df5beb14dbc.json\", \"format\": {\"type\": \"json\"}}, \"mark\": \"bar\", \"encoding\": {\"color\": {\"value\": \"red\"}, \"x\": {\"type\": \"quantitative\", \"bin\": {\"maxbins\": 100}, \"field\": \"value\"}, \"y\": {\"type\": \"quantitative\", \"aggregate\": \"count\"}}}, {\"data\": {\"url\": \"altair-data-09cdcf8d9a729b4f61dd82d7b6223104.json\", \"format\": {\"type\": \"json\"}}, \"mark\": \"bar\", \"encoding\": {\"color\": {\"value\": \"blue\"}, \"x\": {\"type\": \"quantitative\", \"bin\": {\"maxbins\": 100}, \"field\": \"value\"}, \"y\": {\"type\": \"quantitative\", \"aggregate\": \"count\"}}}, {\"data\": {\"url\": \"altair-data-7c4bee03f221a68853cd551a85d18d6f.json\", \"format\": {\"type\": \"json\"}}, \"mark\": \"bar\", \"encoding\": {\"color\": {\"value\": \"green\"}, \"x\": {\"type\": \"quantitative\", \"bin\": {\"maxbins\": 100}, \"field\": \"value\"}, \"y\": {\"type\": \"quantitative\", \"aggregate\": \"count\"}}}], \"$schema\": \"https://vega.github.io/schema/vega-lite/v4.8.1.json\"}, {\"mode\": \"vega-lite\"});\n",
       "</script>"
      ],
      "text/plain": [
       "alt.LayerChart(...)"
      ]
     },
     "execution_count": 2,
     "metadata": {},
     "output_type": "execute_result"
    }
   ],
   "source": [
    "mean_1 = 1\n",
    "stdev_1 = 7\n",
    "mean_2 = 10\n",
    "stdev_2 = 1\n",
    "mean_3 = -10\n",
    "stdev_3 = 5\n",
    "\n",
    "def plot_histogram(mean, std_dev, color):\n",
    "    n = stats.norm(mean, std_dev)\n",
    "    normal_values = pandas.DataFrame({\"value\": n.rvs(5000)})\n",
    "\n",
    "    return altair.Chart(normal_values).mark_bar().encode(\n",
    "        altair.X(\"value\", bin=altair.Bin(maxbins=100)),\n",
    "        y='count()',\n",
    "        color=altair.value(color)\n",
    "    )\n",
    "\n",
    "chart_1 = plot_histogram(mean_1, stdev_1, 'red')\n",
    "chart_2 = plot_histogram(mean_2, stdev_2, 'blue')\n",
    "chart_3 = plot_histogram(mean_3, stdev_3, 'green')\n",
    "\n",
    "all_charts = chart_1 + chart_2 + chart_3\n",
    "all_charts"
   ]
  },
  {
   "cell_type": "code",
   "execution_count": null,
   "metadata": {},
   "outputs": [],
   "source": []
  },
  {
   "cell_type": "code",
   "execution_count": null,
   "metadata": {},
   "outputs": [],
   "source": []
  },
  {
   "cell_type": "code",
   "execution_count": null,
   "metadata": {},
   "outputs": [],
   "source": []
  }
 ],
 "metadata": {
  "kernelspec": {
   "display_name": "Python 3",
   "language": "python",
   "name": "python3"
  },
  "language_info": {
   "codemirror_mode": {
    "name": "ipython",
    "version": 3
   },
   "file_extension": ".py",
   "mimetype": "text/x-python",
   "name": "python",
   "nbconvert_exporter": "python",
   "pygments_lexer": "ipython3",
   "version": "3.7.3"
  }
 },
 "nbformat": 4,
 "nbformat_minor": 2
}
